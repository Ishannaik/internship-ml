{
 "cells": [
  {
   "cell_type": "markdown",
   "id": "43db1da3",
   "metadata": {},
   "source": [
    "# HOMEWORK DAY 3"
   ]
  },
  {
   "cell_type": "markdown",
   "id": "8e59c133",
   "metadata": {},
   "source": [
    "<div class=\"alert alert-block alert-success\"> 1. Take two int values from user and print greatest among them."
   ]
  },
  {
   "cell_type": "code",
   "execution_count": 1,
   "id": "d111fb92",
   "metadata": {
    "scrolled": true
   },
   "outputs": [
    {
     "name": "stdout",
     "output_type": "stream",
     "text": [
      "This is a program to take two int values from user and print the greatest among them\n",
      "\n",
      "Enter the first number: 10\n",
      "Enter the Second number: 5\n",
      "\n",
      "First number is greater than the second number. \n",
      "\n",
      "Therefore the greatest number is:  10\n"
     ]
    }
   ],
   "source": [
    "print(\"This is a program to take two int values from user and print the greatest among them\\n\")\n",
    "\n",
    "number1=int(input(\"Enter the first number: \"))\n",
    "number2=int(input(\"Enter the Second number: \"))\n",
    "\n",
    "if number1 > number2:\n",
    "    print(\"\\nFirst number is greater than the second number. \\n\\nTherefore the greatest number is: \",number1)\n",
    "    \n",
    "elif number1 < number2:\n",
    "    print(\"\\nSecond number is greater than the first number. \\n\\nTherefore the greatest number is: \",number2)\n",
    "    \n",
    "elif number1 == number2:    \n",
    "        print(\"\\nBoth numbers are equal. \\n\\nTherefore the greatest number is: \",number1)"
   ]
  },
  {
   "cell_type": "markdown",
   "id": "47fb2c65",
   "metadata": {},
   "source": [
    "<div class=\"alert alert-block alert-success\">\n",
    "2. Ask user to enter age, sex (M or F), marital status (Y or N) and then using&NewLine;\n",
    "\n",
    "Following rules print their place of service.&NewLine;\n",
    "\n",
    "If employee is female, then she will work only in urban areas.&NewLine;\n",
    "\n",
    "If employee is a male and age is in between 20 to 40 then he may work in\n",
    "anywhere.&NewLine;\n",
    "\n",
    "If employee is male and age is in between 40 to 60 then he will work in\n",
    "urban areas only.&NewLine;\n",
    "\n",
    "And any other input of age should print “ERROR”."
   ]
  },
  {
   "cell_type": "code",
   "execution_count": 14,
   "id": "8b3c38fa",
   "metadata": {},
   "outputs": [
    {
     "name": "stdout",
     "output_type": "stream",
     "text": [
      "Age: 50\n",
      "M/F: D\n",
      "Y/N: N\n",
      "urban areas\n"
     ]
    }
   ],
   "source": [
    "def place(age, gender, martial_status):\n",
    "    \n",
    "    if gender == \"F\":\n",
    "        return \"urban areas\"\n",
    "        \n",
    "    if 20 <= age <= 40:\n",
    "        return \"anywhere\"\n",
    "    \n",
    "    if 40 <= age <= 60:\n",
    "        return \"urban areas\"\n",
    "\n",
    "    if age < 20 or age > 60:\n",
    "        return \"Error\" \n",
    "\n",
    "age, gender, martial_status = int(input(\"Age: \")), input(\"M/F: \"), input(\"Y/N: \")\n",
    "\n",
    "print(place(age, gender, martial_status))"
   ]
  },
  {
   "cell_type": "code",
   "execution_count": null,
   "id": "7152b5b1",
   "metadata": {},
   "outputs": [],
   "source": []
  }
 ],
 "metadata": {
  "kernelspec": {
   "display_name": "Python 3 (ipykernel)",
   "language": "python",
   "name": "python3"
  },
  "language_info": {
   "codemirror_mode": {
    "name": "ipython",
    "version": 3
   },
   "file_extension": ".py",
   "mimetype": "text/x-python",
   "name": "python",
   "nbconvert_exporter": "python",
   "pygments_lexer": "ipython3",
   "version": "3.9.7"
  }
 },
 "nbformat": 4,
 "nbformat_minor": 5
}
