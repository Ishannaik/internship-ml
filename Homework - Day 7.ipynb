{
 "cells": [
  {
   "cell_type": "markdown",
   "id": "48aa18b4",
   "metadata": {},
   "source": [
    "# HOMEWORK"
   ]
  },
  {
   "cell_type": "markdown",
   "id": "4d2f8604",
   "metadata": {},
   "source": [
    "<div class=\"alert alert-block alert-success\">\n",
    "1.\tCreate a mini activity on simple linear regression model."
   ]
  },
  {
   "cell_type": "code",
   "execution_count": 2,
   "id": "945b954e",
   "metadata": {},
   "outputs": [
    {
     "name": "stdout",
     "output_type": "stream",
     "text": [
      "[[ 7]\n",
      " [ 6]\n",
      " [11]\n",
      " [ 3]\n",
      " [14]\n",
      " [24]\n",
      " [ 5]\n",
      " [ 9]\n",
      " [18]\n",
      " [ 1]\n",
      " [ 4]\n",
      " [20]\n",
      " [16]] [123 116 143  95 165 180 110 132 182  76 103 177 178]\n"
     ]
    }
   ],
   "source": [
    "from sklearn.linear_model import LinearRegression\n",
    "import numpy as np \n",
    "from matplotlib import pyplot as plt\n",
    "import pandas as pd\n",
    "age = np.array([7,6,11,3,14,24,5,9,18,1,4,20,16]).reshape((-1, 1))\n",
    "height_cm = np.array([123,116,143,95,165,180,110,132,182,76,103,177,178])\n",
    "print(age,height_cm)"
   ]
  },
  {
   "cell_type": "code",
   "execution_count": 3,
   "id": "eeefa2f6",
   "metadata": {},
   "outputs": [],
   "source": [
    "model = LinearRegression().fit(age, height_cm)"
   ]
  },
  {
   "cell_type": "code",
   "execution_count": 4,
   "id": "3d2d2668",
   "metadata": {},
   "outputs": [],
   "source": [
    "height_cm_pred = model.predict(age)"
   ]
  },
  {
   "cell_type": "code",
   "execution_count": 5,
   "id": "73a15a5c",
   "metadata": {},
   "outputs": [
    {
     "data": {
      "image/png": "[encoded data removed]",
      "text/plain": [
       "<Figure size 432x288 with 1 Axes>"
      ]
     },
     "metadata": {
      "needs_background": "light"
     },
     "output_type": "display_data"
    }
   ],
   "source": [
    "plt.scatter(age,height_cm)\n",
    "plt.plot(age,height_cm_pred, color='red')\n",
    "plt.show()"
   ]
  },
  {
   "cell_type": "markdown",
   "id": "657b8e13",
   "metadata": {},
   "source": [
    "2.What do you mean by Clustering? Example of Clustering?"
   ]
  },
  {
   "cell_type": "markdown",
   "id": "c2adfc26",
   "metadata": {},
   "source": [
    "Clustering is the task of dividing the population or data points into a number of groups such that data points in the same groups are more similar to other data points in the same group than those in other groups. In simple words, the aim is to segregate groups with similar traits and assign them into clusters"
   ]
  },
  {
   "cell_type": "markdown",
   "id": "b161e7b9",
   "metadata": {},
   "source": [
    "Example 1: Retail Marketing\n",
    "Retail companies often use clustering to identify groups of households that are similar to each other.\n",
    "\n",
    "For example, a retail company may collect the following information on households:\n",
    "\n",
    "Household income\n",
    "Household size\n",
    "Head of household Occupation\n",
    "Distance from nearest urban area\n",
    "They can then feed these variables into a clustering algorithm to perhaps identify the following clusters:\n",
    "\n",
    "Cluster 1: Small family, high spenders <br>\n",
    "Cluster 2: Larger family, high spenders<br>\n",
    "Cluster 3: Small family, low spenders<br>\n",
    "Cluster 4: Large family, low spenders\n",
    "The company can then send personalized advertisements or sales letters to each household based on how likely they are to respond to specific types of advertisements.\n",
    "\n",
    "Example 2: Streaming Services\n",
    "Streaming services often use clustering analysis to identify viewers who have similar behavior.\n",
    "\n",
    "For example, a streaming service may collect the following data about individuals:\n",
    "\n",
    "Minutes watched per day\n",
    "Total viewing sessions per week\n",
    "Number of unique shows viewed per month\n",
    "Using these metrics, a streaming service can perform cluster analysis to identify high usage and low usage users so that they can know who they should spend most of their advertising dollars on.\n",
    "\n",
    "Example 3: Sports Science\n",
    "Data scientists for sports teams often use clustering to identify players that are similar to each other. \n",
    "\n",
    "For example, professional basketball teams may collect the following information about players:\n",
    "\n",
    "Points per game\n",
    "Rebounds per game\n",
    "Assists per game\n",
    "Steals per game\n",
    "They can then feed these variables into a clustering algorithm to identify players that are similar to each other so that they can have these players practice with each other and perform specific drills based on their strengths and weaknesses.\n",
    "\n",
    "Example 4: Email Marketing\n",
    "Many businesses use cluster analysis to identify consumers who are similar to each other so they can tailor their emails sent to consumers in such a way that maximizes their revenue.\n",
    "\n",
    "For example, a business may collect the following information about consumers:\n",
    "\n",
    "Percentage of emails opened\n",
    "Number of clicks per email\n",
    "Time spent viewing email\n",
    "Using these metrics, a business can perform cluster analysis to identify consumers who use email in similar ways and tailor the types of emails and frequency of emails they send to different clusters of customers.\n",
    "\n",
    "Example 5: Health Insurance\n",
    "Actuaries at health insurance companies often used cluster analysis to identify “clusters” of consumers that use their health insurance in specific ways.\n",
    "\n",
    "For example, an actuary may collect the following information about households:\n",
    "\n",
    "Total number of doctor visits per year\n",
    "Total household size\n",
    "Total number of chronic conditions per household\n",
    "Average age of household members\n",
    "An actuary can then feed these variables into a clustering algorithm to identify households that are similar. The health insurance company can then set monthly premiums based on how often they expect households in specific clusters to use their insurance."
   ]
  },
  {
   "cell_type": "code",
   "execution_count": null,
   "id": "809b1be0",
   "metadata": {},
   "outputs": [],
   "source": []
  }
 ],
 "metadata": {
  "kernelspec": {
   "display_name": "Python 3 (ipykernel)",
   "language": "python",
   "name": "python3"
  },
  "language_info": {
   "codemirror_mode": {
    "name": "ipython",
    "version": 3
   },
   "file_extension": ".py",
   "mimetype": "text/x-python",
   "name": "python",
   "nbconvert_exporter": "python",
   "pygments_lexer": "ipython3",
   "version": "3.9.7"
  }
 },
 "nbformat": 4,
 "nbformat_minor": 5
}
