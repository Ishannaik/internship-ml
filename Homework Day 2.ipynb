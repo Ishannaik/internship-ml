{
 "cells": [
  {
   "cell_type": "markdown",
   "id": "1668c3c2",
   "metadata": {},
   "source": [
    "# Homework Day 2"
   ]
  },
  {
   "cell_type": "markdown",
   "id": "c112f383",
   "metadata": {},
   "source": [
    "<div class=\"alert alert-block alert-success\">\n",
    "1. Installation of Python 3.10.6 Software.</div>"
   ]
  },
  {
   "cell_type": "markdown",
   "id": "e70ca8d5",
   "metadata": {},
   "source": [
    "<div class=\"alert alert-block alert-success\">\n",
    "2. Explain some of the Coding tool which allows you to Write, Test and Debug the code.</div>\n",
    "\n",
    "- **PyCharm** is a dedicated Python Integrated Development Environment (IDE) providing a wide range of essential tools for Python developers, tightly integrated to create a convenient environment for productive Python, web, and data science development.\n",
    "- **Jupyter** Notebook is an open source web application that you can use to create and share documents that contain live code, equations, visualizations, and text. Jupyter Notebook is maintained by the people at Project Jupyter.\n",
    "- **Spyder** is an open-source cross-platform integrated development environment for scientific programming in the Python language\n",
    "- **Colaboratory**, or “**Colab**” for short, is a product from Google Research. Colab allows anybody to write and execute arbitrary python code through the browser, and is especially well suited to machine learning, data analysis and education. More technically, Colab is a hosted Jupyter notebook service that requires no setup to use, while providing access free of charge to computing resources including GPUs."
   ]
  },
  {
   "cell_type": "markdown",
   "id": "1f68bff7",
   "metadata": {},
   "source": [
    "<div class=\"alert alert-block alert-success\">\n",
    "3. Anaconda Installation </div>\n"
   ]
  },
  {
   "cell_type": "markdown",
   "id": "ad3b68c1",
   "metadata": {},
   "source": [
    "<div class=\"alert alert-block alert-success\">\n",
    "4. Develop python code to show use of variables and operator</div>"
   ]
  },
  {
   "cell_type": "markdown",
   "id": "934e4a20",
   "metadata": {},
   "source": [
    "<div class=\"alert alert-block alert-info\">Use of variables</div>"
   ]
  },
  {
   "cell_type": "code",
   "execution_count": 42,
   "id": "e95ea78f",
   "metadata": {},
   "outputs": [
    {
     "name": "stdout",
     "output_type": "stream",
     "text": [
      "My name is Ishan\n",
      "15\n",
      "50\n"
     ]
    }
   ],
   "source": [
    "name = (\"Ishan\")\n",
    "x = 5\n",
    "y = 10\n",
    "print(\"My name is \"+name)\n",
    "print (x+y)\n",
    "print (x*y)\n"
   ]
  },
  {
   "cell_type": "markdown",
   "id": "f3014b07",
   "metadata": {},
   "source": [
    "<div class=\"alert alert-block alert-info\">\n",
    "Arithmetic Operator</div>"
   ]
  },
  {
   "cell_type": "code",
   "execution_count": 34,
   "id": "fa2e8a41",
   "metadata": {},
   "outputs": [
    {
     "data": {
      "text/plain": [
       "5"
      ]
     },
     "execution_count": 34,
     "metadata": {},
     "output_type": "execute_result"
    }
   ],
   "source": [
    "2+3"
   ]
  },
  {
   "cell_type": "markdown",
   "id": "b607dc51",
   "metadata": {},
   "source": [
    "<div class=\"alert alert-block alert-info\">\n",
    "Comparison Operator</div>"
   ]
  },
  {
   "cell_type": "code",
   "execution_count": 35,
   "id": "1e269f81",
   "metadata": {
    "scrolled": true
   },
   "outputs": [
    {
     "data": {
      "text/plain": [
       "False"
      ]
     },
     "execution_count": 35,
     "metadata": {},
     "output_type": "execute_result"
    }
   ],
   "source": [
    "2>5"
   ]
  },
  {
   "cell_type": "markdown",
   "id": "c3012c17",
   "metadata": {},
   "source": [
    "<div class=\"alert alert-block alert-info\">\n",
    "Logical Operator</div>"
   ]
  },
  {
   "cell_type": "code",
   "execution_count": 36,
   "id": "0a3fd19a",
   "metadata": {},
   "outputs": [
    {
     "data": {
      "text/plain": [
       "True"
      ]
     },
     "execution_count": 36,
     "metadata": {},
     "output_type": "execute_result"
    }
   ],
   "source": [
    "3<4 and 2>1"
   ]
  },
  {
   "cell_type": "markdown",
   "id": "4e8a160f",
   "metadata": {},
   "source": [
    "<div class=\"alert alert-block alert-info\">\n",
    "Assignment Operator</div>"
   ]
  },
  {
   "cell_type": "code",
   "execution_count": 37,
   "id": "ead1ee56",
   "metadata": {
    "scrolled": true
   },
   "outputs": [
    {
     "data": {
      "text/plain": [
       "15"
      ]
     },
     "execution_count": 37,
     "metadata": {},
     "output_type": "execute_result"
    }
   ],
   "source": [
    "m=5\n",
    "m+=10\n",
    "m"
   ]
  },
  {
   "cell_type": "markdown",
   "id": "f6fca133",
   "metadata": {},
   "source": [
    "<div class=\"alert alert-block alert-success\">\n",
    "5. Develop code to show use of different Data Types</div>"
   ]
  },
  {
   "cell_type": "code",
   "execution_count": 43,
   "id": "89be955a",
   "metadata": {},
   "outputs": [],
   "source": [
    "m=10\n",
    "n=5.5\n",
    "o='abcd'\n"
   ]
  },
  {
   "cell_type": "code",
   "execution_count": 44,
   "id": "83934951",
   "metadata": {},
   "outputs": [
    {
     "data": {
      "text/plain": [
       "int"
      ]
     },
     "execution_count": 44,
     "metadata": {},
     "output_type": "execute_result"
    }
   ],
   "source": [
    "type(m)\n"
   ]
  },
  {
   "cell_type": "code",
   "execution_count": 39,
   "id": "3e21f669",
   "metadata": {
    "scrolled": true
   },
   "outputs": [
    {
     "data": {
      "text/plain": [
       "float"
      ]
     },
     "execution_count": 39,
     "metadata": {},
     "output_type": "execute_result"
    }
   ],
   "source": [
    "type(n)"
   ]
  },
  {
   "cell_type": "code",
   "execution_count": 40,
   "id": "9145f79f",
   "metadata": {
    "scrolled": true
   },
   "outputs": [
    {
     "data": {
      "text/plain": [
       "str"
      ]
     },
     "execution_count": 40,
     "metadata": {},
     "output_type": "execute_result"
    }
   ],
   "source": [
    "type(o)"
   ]
  }
 ],
 "metadata": {
  "kernelspec": {
   "display_name": "Python 3 (ipykernel)",
   "language": "python",
   "name": "python3"
  },
  "language_info": {
   "codemirror_mode": {
    "name": "ipython",
    "version": 3
   },
   "file_extension": ".py",
   "mimetype": "text/x-python",
   "name": "python",
   "nbconvert_exporter": "python",
   "pygments_lexer": "ipython3",
   "version": "3.9.7"
  }
 },
 "nbformat": 4,
 "nbformat_minor": 5
}
