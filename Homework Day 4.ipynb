{
 "cells": [
  {
   "cell_type": "markdown",
   "id": "cb46b22f",
   "metadata": {},
   "source": [
    "# HOMEWORK DAY 4"
   ]
  },
  {
   "cell_type": "markdown",
   "id": "fd1a9563",
   "metadata": {},
   "source": [
    "<div class=\"alert alert-block alert-success\"> 1. Develop code using (Numpy, Pandas, Matplotlib)."
   ]
  },
  {
   "cell_type": "code",
   "execution_count": 70,
   "id": "47910b54",
   "metadata": {},
   "outputs": [],
   "source": [
    "import numpy as np\n",
    "import pandas as pd\n",
    "import matplotlib.pyplot as plt"
   ]
  },
  {
   "cell_type": "markdown",
   "id": "373623a4",
   "metadata": {},
   "source": [
    "<div class=\"alert alert-block alert-success\">Create a program to show recursive function (Except factorial)."
   ]
  },
  {
   "cell_type": "code",
   "execution_count": 124,
   "id": "cf7d3aa8",
   "metadata": {},
   "outputs": [
    {
     "name": "stdout",
     "output_type": "stream",
     "text": [
      "How many terms? 5\n",
      "Fibonacci sequence:\n",
      "0\n",
      "1\n",
      "1\n",
      "2\n",
      "3\n"
     ]
    }
   ],
   "source": [
    "def fibo(n):  \n",
    "   if n <= 1:\n",
    "       return n\n",
    "   else:\n",
    "       return(fibo(n-1) + fibo(n-2))  \n",
    "\n",
    "nterms = int(input(\"How many terms? \"))  \n",
    "\n",
    "if nterms <= 0: \n",
    "   print(\"Plese enter a positive integer\")  \n",
    "else:  \n",
    "   print(\"Fibonacci sequence:\")\n",
    "   for i in range(nterms):  \n",
    "       print(fibo(i))"
   ]
  },
  {
   "cell_type": "markdown",
   "id": "13649fe8",
   "metadata": {},
   "source": [
    "<div class=\"alert alert-block alert-success\">3. Prepare the data and create the mean median mode for the following data.\n",
    "- Using excel &NewLine;\n",
    "- Using python Programming &NewLine;"
   ]
  },
  {
   "cell_type": "code",
   "execution_count": 138,
   "id": "661f4887",
   "metadata": {},
   "outputs": [
    {
     "name": "stdout",
     "output_type": "stream",
     "text": [
      "   Manufacturer   Category  Price (INR)\n",
      "0         Apple  Ultrabook       133969\n",
      "1         Apple  Ultrabook        89894\n",
      "2            HP     Gaming        57500\n",
      "3         Apple  Ultrabook       253745\n",
      "4         Apple  Ultrabook       180360\n",
      "5          Acer     Gaming        40000\n",
      "6         Apple  Ultrabook       213997\n",
      "7         Apple  Ultrabook       115870\n",
      "8          Asus  Ultrabook       149500\n",
      "9           MSI     Gaming        89190\n",
      "10         Acer   Notebook        77000\n",
      "11           HP   Notebook        39390\n",
      "12           HP  Ultrabook        34499\n",
      "13        Apple   Notebook       243997\n",
      "14         Dell  Ultrabook        49890\n",
      "15        Apple  Ultrabook       126240\n",
      "16          MSI     Gaming       151855\n",
      "17        Apple  Ultrabook       132190\n",
      "18         Dell   Notebook        74500\n",
      "19        Apple  Ultrabook       285800\n",
      "20       Lenovo    Netbook        49900\n",
      "21         Dell     Gaming        97900\n",
      "22         Asus  Ultrabook        19190\n",
      "23          MSI     Gaming       199190\n",
      "24    Alienware     Gaming       459190\n"
     ]
    }
   ],
   "source": [
    "df = pd.read_excel (r\"C:\\Users\\ishan\\Desktop\\dataset.xlsx\")\n",
    "print(df)"
   ]
  },
  {
   "cell_type": "markdown",
   "id": "d79dacef",
   "metadata": {},
   "source": [
    "<div class=\"alert alert-block alert-info\">Mean of the Price"
   ]
  },
  {
   "cell_type": "code",
   "execution_count": 119,
   "id": "3c6a1d81",
   "metadata": {
    "scrolled": false
   },
   "outputs": [
    {
     "name": "stdout",
     "output_type": "stream",
     "text": [
      "Price (INR)    134590.24\n",
      "dtype: float64\n"
     ]
    }
   ],
   "source": [
    "print(df.mean(numeric_only=True))"
   ]
  },
  {
   "cell_type": "markdown",
   "id": "22e4d75a",
   "metadata": {},
   "source": [
    "<div class=\"alert alert-block alert-info\">Median of the Price"
   ]
  },
  {
   "cell_type": "code",
   "execution_count": 112,
   "id": "261322b2",
   "metadata": {},
   "outputs": [
    {
     "name": "stdout",
     "output_type": "stream",
     "text": [
      "Price (INR)    115870.0\n",
      "dtype: float64\n"
     ]
    }
   ],
   "source": [
    "print(df.median(numeric_only=True))"
   ]
  },
  {
   "cell_type": "markdown",
   "id": "0dabdb40",
   "metadata": {},
   "source": [
    "<div class=\"alert alert-block alert-info\">Mode of the Category"
   ]
  },
  {
   "cell_type": "code",
   "execution_count": 114,
   "id": "f3d90a02",
   "metadata": {},
   "outputs": [
    {
     "name": "stdout",
     "output_type": "stream",
     "text": [
      "0    Ultrabook\n",
      "dtype: object\n",
      "0    Apple\n",
      "dtype: object\n"
     ]
    }
   ],
   "source": [
    "print(df['Category'].mode())\n",
    "\n",
    "print(df['Manufacturer'].mode())"
   ]
  },
  {
   "cell_type": "markdown",
   "id": "86c0688c",
   "metadata": {},
   "source": [
    "<div class=\"alert alert-block alert-success\"> 4.Matrix multiplication in Numpy and how to inverse a matrix using Numpy."
   ]
  },
  {
   "cell_type": "code",
   "execution_count": 17,
   "id": "adba2a95",
   "metadata": {},
   "outputs": [],
   "source": [
    "M = np.array([[5,0,0],[0,5,0],[0,0,5]])"
   ]
  },
  {
   "cell_type": "code",
   "execution_count": 35,
   "id": "4fbbd17a",
   "metadata": {},
   "outputs": [],
   "source": [
    "N = np.array([[6,0,0],[0,6,0],[0,0,6]])"
   ]
  },
  {
   "cell_type": "code",
   "execution_count": 41,
   "id": "215195a0",
   "metadata": {},
   "outputs": [
    {
     "data": {
      "text/plain": [
       "array([[30,  0,  0],\n",
       "       [ 0, 30,  0],\n",
       "       [ 0,  0, 30]])"
      ]
     },
     "execution_count": 41,
     "metadata": {},
     "output_type": "execute_result"
    }
   ],
   "source": [
    "O = np.matmul(M,N)\n",
    "O"
   ]
  },
  {
   "cell_type": "code",
   "execution_count": 42,
   "id": "0081945e",
   "metadata": {},
   "outputs": [],
   "source": [
    "O_inverse = np.linalg.inv(O)"
   ]
  },
  {
   "cell_type": "code",
   "execution_count": 63,
   "id": "583ca12d",
   "metadata": {},
   "outputs": [
    {
     "data": {
      "text/plain": [
       "array([[0.03333333, 0.        , 0.        ],\n",
       "       [0.        , 0.03333333, 0.        ],\n",
       "       [0.        , 0.        , 0.03333333]])"
      ]
     },
     "execution_count": 63,
     "metadata": {},
     "output_type": "execute_result"
    }
   ],
   "source": [
    "O_inverse"
   ]
  },
  {
   "cell_type": "markdown",
   "id": "6f5ea01d",
   "metadata": {},
   "source": [
    "<div class=\"alert alert-block alert-success\"> 5.How to set a single Main Title for All the Subplots in Matplotlib."
   ]
  },
  {
   "cell_type": "code",
   "execution_count": 139,
   "id": "c0241625",
   "metadata": {},
   "outputs": [
    {
     "data": {
      "text/plain": [
       "Text(0.5, 0.98, 'Various Graphs')"
      ]
     },
     "execution_count": 139,
     "metadata": {},
     "output_type": "execute_result"
    },
    {
     "data": {
      "image/png": "[encoded data removed]",
      "text/plain": [
       "<Figure size 432x288 with 4 Axes>"
      ]
     },
     "metadata": {
      "needs_background": "light"
     },
     "output_type": "display_data"
    }
   ],
   "source": [
    "import numpy as np\n",
    "import matplotlib.pyplot as plt\n",
    "\n",
    "x=np.linspace(0,3,100)\n",
    "y1 = x\n",
    "y2 = x**2\n",
    "y3 = x**3\n",
    "y4 = np.sqrt(x)\n",
    "\n",
    "plt.subplot(2,2,1)\n",
    "plt.plot(x,y1)\n",
    "plt.title('y1=x')\n",
    "\n",
    "plt.subplot(2,2,2)\n",
    "plt.plot(x,y2)\n",
    "plt.title('y1=x^2')\n",
    "\n",
    "plt.subplot(2,2,3)\n",
    "plt.plot(x,y3)\n",
    "plt.title('y1=x^3')\n",
    "\n",
    "plt.subplot(2,2,4)\n",
    "plt.plot(x,y4)\n",
    "plt.title('y1=sqrt(x)')\n",
    "\n",
    "\n",
    "plt.suptitle('Various Graphs',fontsize=20)"
   ]
  }
 ],
 "metadata": {
  "kernelspec": {
   "display_name": "Python 3 (ipykernel)",
   "language": "python",
   "name": "python3"
  },
  "language_info": {
   "codemirror_mode": {
    "name": "ipython",
    "version": 3
   },
   "file_extension": ".py",
   "mimetype": "text/x-python",
   "name": "python",
   "nbconvert_exporter": "python",
   "pygments_lexer": "ipython3",
   "version": "3.9.7"
  }
 },
 "nbformat": 4,
 "nbformat_minor": 5
}
