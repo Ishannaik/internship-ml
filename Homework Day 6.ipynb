{
 "cells": [
  {
   "cell_type": "markdown",
   "id": "300b64ba",
   "metadata": {},
   "source": [
    "# HOMEWORK"
   ]
  },
  {
   "cell_type": "markdown",
   "id": "4243f3de",
   "metadata": {},
   "source": [
    "<div class=\"alert alert-block alert-success\">\n",
    "1. Develop the code where you can show the use of break and continue\n",
    "statement."
   ]
  },
  {
   "cell_type": "markdown",
   "id": "9b10e4c2",
   "metadata": {},
   "source": [
    "<div class=\"alert alert-block alert-info\"> Break"
   ]
  },
  {
   "cell_type": "code",
   "execution_count": 24,
   "id": "4ac7dad6",
   "metadata": {},
   "outputs": [
    {
     "name": "stdout",
     "output_type": "stream",
     "text": [
      "j\n",
      "u\n",
      "p\n",
      "The end\n"
     ]
    }
   ],
   "source": [
    "for a in \"jupyter\":\n",
    "    if a == \"y\":\n",
    "        break\n",
    "    print(a)\n",
    "\n",
    "print(\"The end\")"
   ]
  },
  {
   "cell_type": "markdown",
   "id": "eb6b5987",
   "metadata": {},
   "source": [
    "<div class=\"alert alert-block alert-info\">Continue"
   ]
  },
  {
   "cell_type": "code",
   "execution_count": 25,
   "id": "ac4321f1",
   "metadata": {},
   "outputs": [
    {
     "name": "stdout",
     "output_type": "stream",
     "text": [
      "j\n",
      "u\n",
      "p\n",
      "t\n",
      "e\n",
      "r\n",
      "The end\n"
     ]
    }
   ],
   "source": [
    "for a in \"jupyter\":\n",
    "    if a == \"y\":\n",
    "        continue\n",
    "    print(a)\n",
    "\n",
    "print(\"The end\")"
   ]
  },
  {
   "cell_type": "markdown",
   "id": "75ec0636",
   "metadata": {},
   "source": [
    "<div class=\"alert alert-block alert-success\">\n",
    "2. Create program on <br>\n",
    "- Program to input, append and print the list element. <br>\n",
    "- Program – How do I get last element of list. <br>\n",
    "- Find the index of an item in the list. <br>"
   ]
  },
  {
   "cell_type": "markdown",
   "id": "f21f8950",
   "metadata": {},
   "source": [
    "<div class=\"alert alert-block alert-info\">\\\n"
   ]
  },
  {
   "cell_type": "code",
   "execution_count": 4,
   "id": "4cd27fae",
   "metadata": {},
   "outputs": [
    {
     "name": "stdout",
     "output_type": "stream",
     "text": [
      "Enter number of elements : 5\n",
      "1\n",
      "2\n",
      "3\n",
      "4\n",
      "5\n",
      "[1, 2, 3, 4, 5]\n"
     ]
    }
   ],
   "source": [
    "lst = []\n",
    "number = int(input(\"Enter number of elements : \"))\n",
    "\n",
    "for h in range(0, number):\n",
    "    element = int(input())\n",
    "  \n",
    "    lst.append(element)\n",
    "      \n",
    "print(lst)"
   ]
  },
  {
   "cell_type": "markdown",
   "id": "c7a17fa7",
   "metadata": {},
   "source": [
    "<div class=\"alert alert-block alert-info\">Program – How do I get last element of list.\n"
   ]
  },
  {
   "cell_type": "code",
   "execution_count": 10,
   "id": "a5197556",
   "metadata": {},
   "outputs": [
    {
     "name": "stdout",
     "output_type": "stream",
     "text": [
      "The last element of the list is  0\n",
      "The index of 4 is 3\n"
     ]
    }
   ],
   "source": [
    "list = [1,2,3,4,5,6,7,8,9,0]\n",
    "last_element = list[-1]\n",
    "print(\"The last element of the list is \",last_element)"
   ]
  },
  {
   "cell_type": "markdown",
   "id": "a62bc044",
   "metadata": {},
   "source": [
    "<div class=\"alert alert-block alert-info\">Find the index of an item in the list."
   ]
  },
  {
   "cell_type": "code",
   "execution_count": null,
   "id": "4a8dc3a4",
   "metadata": {},
   "outputs": [],
   "source": [
    "print(\"The index of 4 is\",list.index(4))"
   ]
  },
  {
   "attachments": {
    "image.png": {
     "image/png": "[encoded data removed]"
    }
   },
   "cell_type": "markdown",
   "id": "ad6432d0",
   "metadata": {},
   "source": [
    "<div class=\"alert alert-block alert-success\">\n",
    "3. Build Linear regression model on following dataset.\n",
    "</div>\n",
    "\n",
    "![image.png](attachment:image.png)"
   ]
  },
  {
   "cell_type": "code",
   "execution_count": 19,
   "id": "f729d617",
   "metadata": {},
   "outputs": [
    {
     "name": "stdout",
     "output_type": "stream",
     "text": [
      "[[ 71]\n",
      " [ 89]\n",
      " [ 64]\n",
      " [ 74]\n",
      " [ 87]\n",
      " [ 93]\n",
      " [ 79]\n",
      " [ 81]\n",
      " [ 75]\n",
      " [ 72]\n",
      " [ 70]\n",
      " [ 66]\n",
      " [ 81]\n",
      " [ 78]\n",
      " [110]] [ 51  66  45  57  64  75  61  62  55  53  48  46  63  60 100]\n"
     ]
    }
   ],
   "source": [
    "from sklearn.linear_model import LinearRegression\n",
    "import numpy as np\n",
    "from matplotlib import pyplot as plt\n",
    "import pandas as pd\n",
    "waist_cm = np.array([71,89,64,74,87,93,79,81,75,72,70,66,81,78,110]).reshape((-1, 1))\n",
    "weight_kg = np.array([51,66,45,57,64,75,61,62,55,53,48,46,63,60,100])\n",
    "print(waist_cm,weight_kg)"
   ]
  },
  {
   "cell_type": "code",
   "execution_count": 20,
   "id": "56fe3834",
   "metadata": {},
   "outputs": [],
   "source": [
    "model = LinearRegression().fit(waist_cm, weight_kg)\n",
    "    "
   ]
  },
  {
   "cell_type": "code",
   "execution_count": 21,
   "id": "5a25767a",
   "metadata": {},
   "outputs": [],
   "source": [
    "weight_kg_pred = model.predict(waist_cm)"
   ]
  },
  {
   "cell_type": "code",
   "execution_count": 22,
   "id": "5db5fb25",
   "metadata": {},
   "outputs": [
    {
     "data": {
      "image/png": "[encoded data removed]",
      "text/plain": [
       "<Figure size 432x288 with 1 Axes>"
      ]
     },
     "metadata": {
      "needs_background": "light"
     },
     "output_type": "display_data"
    }
   ],
   "source": [
    "plt.scatter(waist_cm,weight_kg)\n",
    "plt.plot(waist_cm,weight_kg_pred, color='red')\n",
    "plt.show()"
   ]
  },
  {
   "cell_type": "markdown",
   "id": "3108bce0",
   "metadata": {},
   "source": [
    "<div class=\"alert alert-block alert-info\">And also calculate the Standard Deviation for Weight_Kg"
   ]
  },
  {
   "cell_type": "code",
   "execution_count": 23,
   "id": "527236ac",
   "metadata": {},
   "outputs": [
    {
     "data": {
      "text/plain": [
       "13.21009714826756"
      ]
     },
     "execution_count": 23,
     "metadata": {},
     "output_type": "execute_result"
    }
   ],
   "source": [
    "np.std(weight_kg)"
   ]
  }
 ],
 "metadata": {
  "kernelspec": {
   "display_name": "Python 3 (ipykernel)",
   "language": "python",
   "name": "python3"
  },
  "language_info": {
   "codemirror_mode": {
    "name": "ipython",
    "version": 3
   },
   "file_extension": ".py",
   "mimetype": "text/x-python",
   "name": "python",
   "nbconvert_exporter": "python",
   "pygments_lexer": "ipython3",
   "version": "3.9.7"
  }
 },
 "nbformat": 4,
 "nbformat_minor": 5
}
